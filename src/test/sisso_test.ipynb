{
 "cells": [
  {
   "cell_type": "code",
   "execution_count": 1,
   "metadata": {},
   "outputs": [],
   "source": [
    "import numpy as np\n",
    "import pandas as pd\n",
    "import pickle\n",
    "import os\n",
    "import sys\n",
    "module_path = os.path.abspath(os.path.join('..'))\n",
    "if module_path not in sys.path:\n",
    "    sys.path.append(module_path)\n",
    "from sisso import SISSO"
   ]
  },
  {
   "cell_type": "markdown",
   "metadata": {},
   "source": [
    "## Load Data"
   ]
  },
  {
   "cell_type": "code",
   "execution_count": 2,
   "metadata": {},
   "outputs": [
    {
     "data": {
      "text/plain": [
       "(52008, 3702)"
      ]
     },
     "execution_count": 2,
     "metadata": {},
     "output_type": "execute_result"
    }
   ],
   "source": [
    "K = pickle.load(open(\"evals_52k.pkl\", \"rb\"))\n",
    "K.shape"
   ]
  },
  {
   "cell_type": "code",
   "execution_count": 3,
   "metadata": {},
   "outputs": [
    {
     "data": {
      "text/plain": [
       "(3702,)"
      ]
     },
     "execution_count": 3,
     "metadata": {},
     "output_type": "execute_result"
    }
   ],
   "source": [
    "y = pd.read_csv(\"heusler_data.csv\")[\"band_gap\"].values\n",
    "y.shape"
   ]
  },
  {
   "cell_type": "markdown",
   "metadata": {},
   "source": [
    "## Set Up Experiment"
   ]
  },
  {
   "cell_type": "code",
   "execution_count": 4,
   "metadata": {},
   "outputs": [],
   "source": [
    "experiment = SISSO(K=K.T, y=y)"
   ]
  },
  {
   "cell_type": "code",
   "execution_count": 5,
   "metadata": {},
   "outputs": [
    {
     "name": "stderr",
     "output_type": "stream",
     "text": [
      "INFO:root:------------------\n",
      "INFO:root:Iteration: 1\n",
      "INFO:root:Error: 78.19239731575202\n",
      "INFO:root:Number of combinations: 25\n",
      "INFO:root:Optimal combination: (4974,)\n",
      "INFO:root:Optimal coefficients: [65.65757184]\n"
     ]
    },
    {
     "name": "stderr",
     "output_type": "stream",
     "text": [
      "INFO:root:------------------\n",
      "INFO:root:Iteration: 2\n",
      "INFO:root:Error: 76.57978837985046\n",
      "INFO:root:Number of combinations: 1225\n",
      "INFO:root:Optimal combination: (4833, 36173)\n",
      "INFO:root:Optimal coefficients: [ 70.82318253 -20.07190652]\n",
      "INFO:root:------------------\n",
      "INFO:root:Iteration: 3\n",
      "INFO:root:Error: 75.27691984028422\n",
      "INFO:root:Number of combinations: 47905\n",
      "INFO:root:Optimal combination: (4220, 4462, 36173)\n",
      "INFO:root:Optimal coefficients: [-38.54778034 -35.82824478 -15.18685514]\n",
      "INFO:root:------------------\n",
      "INFO:root:Iteration: 4\n",
      "INFO:root:Error: 74.30076851277661\n",
      "INFO:root:Number of combinations: 1663740\n",
      "INFO:root:Optimal combination: (4220, 4462, 36173, 48297)\n",
      "INFO:root:Optimal coefficients: [-39.34624565 -36.74307192 -15.5572908   12.18750156]\n"
     ]
    }
   ],
   "source": [
    "experiment.fit()"
   ]
  },
  {
   "cell_type": "code",
   "execution_count": null,
   "metadata": {},
   "outputs": [],
   "source": []
  }
 ],
 "metadata": {
  "kernelspec": {
   "display_name": "sissopp_env",
   "language": "python",
   "name": "python3"
  },
  "language_info": {
   "codemirror_mode": {
    "name": "ipython",
    "version": 3
   },
   "file_extension": ".py",
   "mimetype": "text/x-python",
   "name": "python",
   "nbconvert_exporter": "python",
   "pygments_lexer": "ipython3",
   "version": "3.9.19"
  }
 },
 "nbformat": 4,
 "nbformat_minor": 2
}
