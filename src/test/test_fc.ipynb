{
 "cells": [
  {
   "cell_type": "markdown",
   "metadata": {},
   "source": [
    "Change path to heusler_data"
   ]
  },
  {
   "cell_type": "code",
   "execution_count": 1,
   "metadata": {},
   "outputs": [],
   "source": [
    "import numpy as np\n",
    "import pandas as pd\n",
    "from sissopp import Inputs\n",
    "from sissopp import FeatureSpace, SISSORegressor\n",
    "import pickle\n",
    "\n",
    "#read instructions and data\n",
    "inputs = Inputs(\"sisso.json\")\n",
    "input_frame = pd.read_csv('heusler_data.csv')\n"
   ]
  },
  {
   "cell_type": "code",
   "execution_count": 2,
   "metadata": {},
   "outputs": [],
   "source": [
    "input_dict = {}\n",
    "\n",
    "for column in input_frame.columns:\n",
    "    # skip strings\n",
    "    if column == '# Material':\n",
    "        continue\n",
    "    \n",
    "    #df -> dict\n",
    "    column_entries = input_frame[column].tolist()\n",
    "    input_dict[column] = column_entries\n"
   ]
  },
  {
   "cell_type": "code",
   "execution_count": 3,
   "metadata": {},
   "outputs": [
    {
     "name": "stdout",
     "output_type": "stream",
     "text": [
      "Time to generate feat space: "
     ]
    },
    {
     "name": "stderr",
     "output_type": "stream",
     "text": [
      "WARNING: Primary Feature atomic_ip_by_half_charged_homo_C is constant. Removing it from the feature space\n",
      "WARNING: Primary Feature atomic_ip_by_half_charged_homo_B is constant. Removing it from the feature space\n",
      "WARNING: Primary Feature atomic_ip_by_half_charged_homo_A is constant. Removing it from the feature space\n",
      "WARNING: Primary Feature atomic_ea_by_half_charged_homo_C is constant. Removing it from the feature space\n",
      "WARNING: Primary Feature atomic_ea_by_half_charged_homo_B is constant. Removing it from the feature space\n",
      "WARNING: Primary Feature atomic_ea_by_half_charged_homo_A is constant. Removing it from the feature space\n",
      "WARNING: Primary Feature atomic_ip_by_energy_difference_C is constant. Removing it from the feature space\n",
      "WARNING: Primary Feature atomic_ip_by_energy_difference_B is constant. Removing it from the feature space\n",
      "WARNING: Primary Feature atomic_ip_by_energy_difference_A is constant. Removing it from the feature space\n",
      "WARNING: Primary Feature atomic_ea_by_energy_difference_C is constant. Removing it from the feature space\n",
      "WARNING: Primary Feature atomic_ea_by_energy_difference_B is constant. Removing it from the feature space\n",
      "WARNING: Primary Feature atomic_ea_by_energy_difference_A is constant. Removing it from the feature space\n",
      "WARNING: Primary Feature atomic_lpumo_C is constant. Removing it from the feature space\n",
      "WARNING: Primary Feature atomic_lpumo_B is constant. Removing it from the feature space\n",
      "WARNING: Primary Feature atomic_lpumo_A is constant. Removing it from the feature space\n",
      "WARNING: Primary Feature atomic_lfumo_C is constant. Removing it from the feature space\n",
      "WARNING: Primary Feature atomic_lfumo_B is constant. Removing it from the feature space\n",
      "WARNING: Primary Feature atomic_lfumo_A is constant. Removing it from the feature space\n",
      "WARNING: Primary Feature atomic_hpomo_C is constant. Removing it from the feature space\n",
      "WARNING: Primary Feature atomic_hpomo_B is constant. Removing it from the feature space\n",
      "WARNING: Primary Feature atomic_hpomo_A is constant. Removing it from the feature space\n",
      "WARNING: Primary Feature atomic_hfomo_C is constant. Removing it from the feature space\n",
      "WARNING: Primary Feature atomic_hfomo_B is constant. Removing it from the feature space\n",
      "WARNING: Primary Feature atomic_hfomo_A is constant. Removing it from the feature space\n"
     ]
    },
    {
     "name": "stdout",
     "output_type": "stream",
     "text": [
      "0.683322 s\n"
     ]
    }
   ],
   "source": [
    "feature_space = FeatureSpace(inputs)\n",
    "#constant omission is dubious?"
   ]
  },
  {
   "cell_type": "code",
   "execution_count": 4,
   "metadata": {},
   "outputs": [
    {
     "data": {
      "text/plain": [
       "52008"
      ]
     },
     "execution_count": 4,
     "metadata": {},
     "output_type": "execute_result"
    }
   ],
   "source": [
    "#check the size\n",
    "x = feature_space.phi\n",
    "len(x)"
   ]
  },
  {
   "cell_type": "code",
   "execution_count": 5,
   "metadata": {},
   "outputs": [
    {
     "name": "stdout",
     "output_type": "stream",
     "text": [
      "0\n",
      "10000\n",
      "20000\n",
      "30000\n",
      "40000\n",
      "50000\n"
     ]
    }
   ],
   "source": [
    "#Evaluate the feature space at every element of the heusler dictionary.\n",
    "#Awfully slow, because of the c++ calls nad the dicitionary elements featuring way more arguments than necessary for a specific feature evaluation.\n",
    "evals = []\n",
    "for i in range(len(feature_space.phi)):\n",
    "    if i%10000 == 0: print(i)\n",
    "    cur_feature = feature_space.get_feature(i)\n",
    "    evals.append(cur_feature.eval_many(input_dict))\n"
   ]
  },
  {
   "cell_type": "code",
   "execution_count": 7,
   "metadata": {},
   "outputs": [
    {
     "data": {
      "text/plain": [
       "(52008, 3702)"
      ]
     },
     "execution_count": 7,
     "metadata": {},
     "output_type": "execute_result"
    }
   ],
   "source": [
    "evals = np.array(evals)\n",
    "evals.shape"
   ]
  },
  {
   "cell_type": "code",
   "execution_count": 8,
   "metadata": {},
   "outputs": [],
   "source": [
    "pickle.dump(evals, open('evals.pkl', 'wb'))"
   ]
  },
  {
   "cell_type": "code",
   "execution_count": 9,
   "metadata": {},
   "outputs": [],
   "source": [
    "evals = pickle.load(open(\"evals_52k.pkl\", \"rb\"))"
   ]
  },
  {
   "cell_type": "code",
   "execution_count": null,
   "metadata": {},
   "outputs": [],
   "source": []
  }
 ],
 "metadata": {
  "kernelspec": {
   "display_name": "sissopp_env",
   "language": "python",
   "name": "python3"
  },
  "language_info": {
   "codemirror_mode": {
    "name": "ipython",
    "version": 3
   },
   "file_extension": ".py",
   "mimetype": "text/x-python",
   "name": "python",
   "nbconvert_exporter": "python",
   "pygments_lexer": "ipython3",
   "version": "3.9.19"
  }
 },
 "nbformat": 4,
 "nbformat_minor": 2
}
