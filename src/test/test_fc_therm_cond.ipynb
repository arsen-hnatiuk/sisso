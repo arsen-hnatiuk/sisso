{
 "cells": [
  {
   "cell_type": "code",
   "execution_count": 1,
   "metadata": {},
   "outputs": [
    {
     "name": "stderr",
     "output_type": "stream",
     "text": [
      "Authorization required, but no authorization protocol specified\n",
      "\n",
      "Authorization required, but no authorization protocol specified\n",
      "\n",
      "Authorization required, but no authorization protocol specified\n",
      "\n"
     ]
    }
   ],
   "source": [
    "import numpy as np\n",
    "import pandas as pd\n",
    "import pickle\n",
    "from sissopp import Inputs\n",
    "from sissopp import FeatureSpace, SISSORegressor\n",
    "\n",
    "#read instructions and data\n",
    "#don't forget to adjust sisso.json \n",
    "inputs = Inputs(\"thermal_conductivity.json\")\n"
   ]
  },
  {
   "cell_type": "code",
   "execution_count": 2,
   "metadata": {},
   "outputs": [
    {
     "name": "stdout",
     "output_type": "stream",
     "text": [
      "Time to generate feat space: 2.54391 s\n"
     ]
    }
   ],
   "source": [
    "feature_space = FeatureSpace(inputs)"
   ]
  },
  {
   "cell_type": "code",
   "execution_count": 3,
   "metadata": {},
   "outputs": [
    {
     "name": "stdout",
     "output_type": "stream",
     "text": [
      "233799\n",
      "sigma 0 <class '_sissopp.ModelNode'>\n",
      "sigma_os 1 <class '_sissopp.ModelNode'>\n",
      "L_min_prim 2 <class '_sissopp.ModelNode'>\n",
      "L_max_prim 3 <class '_sissopp.ModelNode'>\n",
      "L_avg_prim 4 <class '_sissopp.ModelNode'>\n",
      "Theta_p 5 <class '_sissopp.ModelNode'>\n",
      "Theta_D_infty 6 <class '_sissopp.ModelNode'>\n",
      "C_v 7 <class '_sissopp.ModelNode'>\n",
      "omega_Gamma_max 8 <class '_sissopp.ModelNode'>\n",
      "m_min 9 <class '_sissopp.ModelNode'>\n",
      "m_max 10 <class '_sissopp.ModelNode'>\n",
      "m_avg 11 <class '_sissopp.ModelNode'>\n",
      "mu 12 <class '_sissopp.ModelNode'>\n",
      "V_m 13 <class '_sissopp.ModelNode'>\n",
      "rho 14 <class '_sissopp.ModelNode'>\n",
      "n_atoms_prim 15 <class '_sissopp.ModelNode'>\n",
      "v_s 16 <class '_sissopp.ModelNode'>\n",
      "(mu * sigma_os) 12|1|mult <class '_sissopp.ModelNode'>\n",
      "(mu * sigma) 12|0|mult <class '_sissopp.ModelNode'>\n",
      "(mu / sigma) 12|0|div <class '_sissopp.ModelNode'>\n",
      "(1.0 / mu) 12|inv <class '_sissopp.ModelNode'>\n",
      "(mu^2) 12|sq <class '_sissopp.ModelNode'>\n",
      "(mu^3) 12|cb <class '_sissopp.ModelNode'>\n",
      "(mu^6) 12|sp <class '_sissopp.ModelNode'>\n",
      "sqrt(mu) 12|sqrt <class '_sissopp.ModelNode'>\n",
      "cbrt(mu) 12|cbrt <class '_sissopp.ModelNode'>\n",
      "(m_avg / v_s) 11|16|div <class '_sissopp.ModelNode'>\n",
      "(mu / sigma_os) 12|1|div <class '_sissopp.ModelNode'>\n",
      "(mu * L_min_prim) 12|2|mult <class '_sissopp.ModelNode'>\n",
      "(mu / L_min_prim) 12|2|div <class '_sissopp.ModelNode'>\n",
      "(mu * L_max_prim) 12|3|mult <class '_sissopp.ModelNode'>\n",
      "(mu / L_max_prim) 12|3|div <class '_sissopp.ModelNode'>\n",
      "(mu * L_avg_prim) 12|4|mult <class '_sissopp.ModelNode'>\n",
      "(mu / L_avg_prim) 12|4|div <class '_sissopp.ModelNode'>\n",
      "(m_avg + m_max) 11|10|add <class '_sissopp.ModelNode'>\n",
      "(m_avg * C_v) 11|7|mult <class '_sissopp.ModelNode'>\n",
      "(m_avg / C_v) 11|7|div <class '_sissopp.ModelNode'>\n",
      "(m_avg * omega_Gamma_max) 11|8|mult <class '_sissopp.ModelNode'>\n",
      "(m_avg / omega_Gamma_max) 11|8|div <class '_sissopp.ModelNode'>\n",
      "(m_avg + m_min) 11|9|add <class '_sissopp.ModelNode'>\n",
      "(m_avg - m_min) 11|9|sub <class '_sissopp.ModelNode'>\n",
      "(m_avg * m_min) 11|9|mult <class '_sissopp.ModelNode'>\n",
      "(m_avg / m_min) 11|9|div <class '_sissopp.ModelNode'>\n",
      "(mu * Theta_p) 12|5|mult <class '_sissopp.ModelNode'>\n",
      "(m_avg - m_max) 11|10|sub <class '_sissopp.ModelNode'>\n",
      "(m_avg * m_max) 11|10|mult <class '_sissopp.ModelNode'>\n",
      "(m_avg / m_max) 11|10|div <class '_sissopp.ModelNode'>\n",
      "(m_avg / mu) 11|12|div <class '_sissopp.ModelNode'>\n",
      "(m_avg / V_m) 11|13|div <class '_sissopp.ModelNode'>\n",
      "(m_avg / rho) 11|14|div <class '_sissopp.ModelNode'>\n"
     ]
    }
   ],
   "source": [
    "#check the size\n",
    "x = feature_space.phi\n",
    "print(len(x))\n",
    "\n",
    "#testloop\n",
    "for i in range(50):\n",
    "    test_feat = feature_space.get_feature(i)\n",
    "    print(test_feat.expr, test_feat.postfix_expr, type(test_feat))\n"
   ]
  },
  {
   "cell_type": "code",
   "execution_count": 4,
   "metadata": {},
   "outputs": [],
   "source": [
    "# a lot quicker, properly using the c++ implementation (evaluation of a single feature using value not eval_many)\n",
    "evals = [cur_feat.value for cur_feat in feature_space.phi]"
   ]
  },
  {
   "cell_type": "code",
   "execution_count": 5,
   "metadata": {},
   "outputs": [
    {
     "name": "stdout",
     "output_type": "stream",
     "text": [
      "233799 75\n",
      "0.358177323796488\n",
      "0.19275381528518498\n",
      "0.340642137935533\n",
      "0.33436998563293496\n",
      "0.33017560663081\n"
     ]
    }
   ],
   "source": [
    "print(len(evals), len(evals[0]))\n",
    "for i in range(5):\n",
    "    print(evals[0][i])"
   ]
  },
  {
   "cell_type": "code",
   "execution_count": 6,
   "metadata": {},
   "outputs": [
    {
     "data": {
      "text/plain": [
       "(233799, 75)"
      ]
     },
     "execution_count": 6,
     "metadata": {},
     "output_type": "execute_result"
    }
   ],
   "source": [
    "evals = np.array(evals)\n",
    "evals.shape"
   ]
  },
  {
   "cell_type": "code",
   "execution_count": 7,
   "metadata": {},
   "outputs": [],
   "source": [
    "pickle.dump(evals, open('evals_thermal.pkl', 'wb'))"
   ]
  },
  {
   "cell_type": "code",
   "execution_count": null,
   "metadata": {},
   "outputs": [],
   "source": [
    "evals = pickle.load(open(\"evals_52k.pkl\", \"rb\"))"
   ]
  }
 ],
 "metadata": {
  "kernelspec": {
   "display_name": "Python 3 (ipykernel)",
   "language": "python",
   "name": "python3"
  },
  "language_info": {
   "codemirror_mode": {
    "name": "ipython",
    "version": 3
   },
   "file_extension": ".py",
   "mimetype": "text/x-python",
   "name": "python",
   "nbconvert_exporter": "python",
   "pygments_lexer": "ipython3",
   "version": "3.9.19"
  }
 },
 "nbformat": 4,
 "nbformat_minor": 2
}
